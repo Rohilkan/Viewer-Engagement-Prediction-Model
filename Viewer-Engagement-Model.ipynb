{
 "cells": [
  {
   "cell_type": "markdown",
   "id": "0be71ec1",
   "metadata": {
    "deletable": false,
    "editable": false,
    "nbgrader": {
     "cell_type": "markdown",
     "checksum": "2ddd869ec642dbe6404672b445fd4dd1",
     "grade": false,
     "grade_id": "cell-6757b7ecd16ad875",
     "locked": true,
     "schema_version": 3,
     "solution": false,
     "task": false
    }
   },
   "source": [
    "# Predicting and Understanding Viewer Engagement"
   ]
  },
  {
   "cell_type": "markdown",
   "id": "2164282c",
   "metadata": {},
   "source": [
    "## Imports"
   ]
  },
  {
   "cell_type": "code",
   "execution_count": 26,
   "id": "1218318f",
   "metadata": {
    "deletable": false,
    "editable": false,
    "nbgrader": {
     "cell_type": "code",
     "checksum": "b7dc38d94db79fb7160854a629c825a8",
     "grade": false,
     "grade_id": "cell-2c0cf4e0ffe5f447",
     "locked": true,
     "schema_version": 3,
     "solution": false,
     "task": false
    }
   },
   "outputs": [],
   "source": [
    "import warnings\n",
    "\n",
    "warnings.filterwarnings(\"ignore\")\n",
    "\n",
    "import matplotlib.pyplot as plt\n",
    "import numpy as np\n",
    "import pandas as pd\n",
    "import seaborn as sns\n",
    "\n",
    "np.random.seed(0)"
   ]
  },
  {
   "cell_type": "code",
   "execution_count": 27,
   "id": "23f0fd29-be90-4f3c-b99d-0ff847805c35",
   "metadata": {},
   "outputs": [],
   "source": [
    "from sklearn.decomposition import PCA\n",
    "from sklearn.ensemble import GradientBoostingClassifier, RandomForestClassifier\n",
    "from sklearn.linear_model import LogisticRegression, RidgeClassifier\n",
    "from sklearn.metrics import roc_auc_score, roc_curve\n",
    "from sklearn.model_selection import GridSearchCV, train_test_split\n",
    "from sklearn.neural_network import MLPClassifier\n",
    "from sklearn.svm import SVC\n",
    "from sklearn.tree import DecisionTreeClassifier"
   ]
  },
  {
   "cell_type": "markdown",
   "id": "24d630aa",
   "metadata": {},
   "source": [
    "## Training Set EDA"
   ]
  },
  {
   "cell_type": "code",
   "execution_count": 28,
   "id": "dd0afb55",
   "metadata": {},
   "outputs": [],
   "source": [
    "trainSet = pd.read_csv(\"assets/train.csv\")"
   ]
  },
  {
   "cell_type": "code",
   "execution_count": 29,
   "id": "22fc5123",
   "metadata": {},
   "outputs": [
    {
     "data": {
      "text/html": [
       "<div>\n",
       "<style scoped>\n",
       "    .dataframe tbody tr th:only-of-type {\n",
       "        vertical-align: middle;\n",
       "    }\n",
       "\n",
       "    .dataframe tbody tr th {\n",
       "        vertical-align: top;\n",
       "    }\n",
       "\n",
       "    .dataframe thead th {\n",
       "        text-align: right;\n",
       "    }\n",
       "</style>\n",
       "<table border=\"1\" class=\"dataframe\">\n",
       "  <thead>\n",
       "    <tr style=\"text-align: right;\">\n",
       "      <th></th>\n",
       "      <th>id</th>\n",
       "      <th>title_word_count</th>\n",
       "      <th>document_entropy</th>\n",
       "      <th>freshness</th>\n",
       "      <th>easiness</th>\n",
       "      <th>fraction_stopword_presence</th>\n",
       "      <th>normalization_rate</th>\n",
       "      <th>speaker_speed</th>\n",
       "      <th>silent_period_rate</th>\n",
       "      <th>engagement</th>\n",
       "    </tr>\n",
       "  </thead>\n",
       "  <tbody>\n",
       "    <tr>\n",
       "      <th>0</th>\n",
       "      <td>1</td>\n",
       "      <td>9</td>\n",
       "      <td>7.753995</td>\n",
       "      <td>16310</td>\n",
       "      <td>75.583936</td>\n",
       "      <td>0.553664</td>\n",
       "      <td>0.034049</td>\n",
       "      <td>2.997753</td>\n",
       "      <td>0.0</td>\n",
       "      <td>True</td>\n",
       "    </tr>\n",
       "    <tr>\n",
       "      <th>1</th>\n",
       "      <td>2</td>\n",
       "      <td>6</td>\n",
       "      <td>8.305269</td>\n",
       "      <td>15410</td>\n",
       "      <td>86.870523</td>\n",
       "      <td>0.584498</td>\n",
       "      <td>0.018763</td>\n",
       "      <td>2.635789</td>\n",
       "      <td>0.0</td>\n",
       "      <td>False</td>\n",
       "    </tr>\n",
       "    <tr>\n",
       "      <th>2</th>\n",
       "      <td>3</td>\n",
       "      <td>3</td>\n",
       "      <td>7.965583</td>\n",
       "      <td>15680</td>\n",
       "      <td>81.915968</td>\n",
       "      <td>0.605685</td>\n",
       "      <td>0.030720</td>\n",
       "      <td>2.538095</td>\n",
       "      <td>0.0</td>\n",
       "      <td>False</td>\n",
       "    </tr>\n",
       "  </tbody>\n",
       "</table>\n",
       "</div>"
      ],
      "text/plain": [
       "   id  title_word_count  document_entropy  freshness   easiness   \n",
       "0   1                 9          7.753995      16310  75.583936  \\\n",
       "1   2                 6          8.305269      15410  86.870523   \n",
       "2   3                 3          7.965583      15680  81.915968   \n",
       "\n",
       "   fraction_stopword_presence  normalization_rate  speaker_speed   \n",
       "0                    0.553664            0.034049       2.997753  \\\n",
       "1                    0.584498            0.018763       2.635789   \n",
       "2                    0.605685            0.030720       2.538095   \n",
       "\n",
       "   silent_period_rate  engagement  \n",
       "0                 0.0        True  \n",
       "1                 0.0       False  \n",
       "2                 0.0       False  "
      ]
     },
     "execution_count": 29,
     "metadata": {},
     "output_type": "execute_result"
    }
   ],
   "source": [
    "trainSet.head(3)"
   ]
  },
  {
   "cell_type": "markdown",
   "id": "942f42e9",
   "metadata": {},
   "source": [
    "## Model Design"
   ]
  },
  {
   "cell_type": "code",
   "execution_count": 23,
   "id": "a8d179ff",
   "metadata": {
    "deletable": false,
    "nbgrader": {
     "cell_type": "code",
     "checksum": "aef89dbca058b3768c5e369581c14bbb",
     "grade": false,
     "grade_id": "cell-f8da4477c345bf17",
     "locked": false,
     "schema_version": 3,
     "solution": true,
     "task": false
    }
   },
   "outputs": [],
   "source": [
    "def engagement_model():\n",
    "    trainSet = pd.read_csv(\"assets/train.csv\")\n",
    "    testSet = pd.read_csv(\"assets/test.csv\")\n",
    "\n",
    "    X = trainSet[[\n",
    "            \"title_word_count\",\n",
    "            \"document_entropy\",\n",
    "            \"freshness\",\n",
    "            \"easiness\",\n",
    "            \"fraction_stopword_presence\",\n",
    "            \"speaker_speed\",\n",
    "            \"silent_period_rate\",]].values\n",
    "    y = trainSet[\"engagement\"].values\n",
    "\n",
    "    X_train, X_val, y_train, y_val = train_test_split(X, y)\n",
    "\n",
    "    X_test = testSet[[\n",
    "            \"title_word_count\",\n",
    "            \"document_entropy\",\n",
    "            \"freshness\",\n",
    "            \"easiness\",\n",
    "            \"fraction_stopword_presence\",\n",
    "            \"speaker_speed\",\n",
    "            \"silent_period_rate\",]].values\n",
    "\n",
    "    grid = GridSearchCV(\n",
    "        RandomForestClassifier(),\n",
    "        param_grid={\n",
    "        \"max_depth\": [2, 3, 4, 5, 6, 7],\n",
    "        \"max_features\": [3, 4, 5, 6, 7],\n",
    "        \"n_estimators\": [10, 20, 30],\n",
    "        },\n",
    "        n_jobs=-1,\n",
    "        scoring=\"roc_auc\",\n",
    "    )\n",
    "    grid.fit(X, y)\n",
    "\n",
    "    print(grid.best_params_)\n",
    "    print(grid.best_score_)\n",
    "\n",
    "    gridPred = grid.predict_proba(X_val)[:,1]\n",
    "    gridPred = grid.predict_proba(X_test)[:, 1]\n",
    "\n",
    "    forest = RandomForestClassifier(max_depth=7, \n",
    "                                    max_features=4, \n",
    "                                    n_estimators=30,\n",
    "                                    random_state=42).fit(X, y)\n",
    "\n",
    "    print(roc_auc_score(y_val, forest.predict_proba(X_val)[:, 1]))\n",
    "\n",
    "    forestPred = forest.predict_proba(X_test)[:, 1]\n",
    "\n",
    "    return pd.Series(index=testSet.id, data=forestPred, name=\"engagement\")"
   ]
  },
  {
   "cell_type": "markdown",
   "id": "2119161d",
   "metadata": {},
   "source": [
    "## Model Output"
   ]
  },
  {
   "cell_type": "code",
   "execution_count": 24,
   "id": "25281393-b7e4-4ade-8f1b-912eaab92603",
   "metadata": {},
   "outputs": [
    {
     "name": "stdout",
     "output_type": "stream",
     "text": [
      "{'max_depth': 7, 'max_features': 4, 'n_estimators': 30}\n",
      "0.8840865972264315\n",
      "0.9354988704499514\n"
     ]
    },
    {
     "data": {
      "text/plain": [
       "id\n",
       "9240     0.021487\n",
       "9241     0.038760\n",
       "9242     0.070973\n",
       "9243     0.966547\n",
       "9244     0.024444\n",
       "           ...   \n",
       "11544    0.022452\n",
       "11545    0.010717\n",
       "11546    0.011409\n",
       "11547    0.933201\n",
       "11548    0.017443\n",
       "Name: engagement, Length: 2309, dtype: float64"
      ]
     },
     "execution_count": 24,
     "metadata": {},
     "output_type": "execute_result"
    }
   ],
   "source": [
    "engagement_model()"
   ]
  },
  {
   "cell_type": "markdown",
   "id": "cd6e809c",
   "metadata": {},
   "source": [
    "## Output Checking"
   ]
  },
  {
   "cell_type": "code",
   "execution_count": 20,
   "id": "c78d565a",
   "metadata": {
    "deletable": false,
    "editable": false,
    "nbgrader": {
     "cell_type": "code",
     "checksum": "e3b639d19639542702a374e84b2efb8e",
     "grade": false,
     "grade_id": "cell-ee9c764493852fe4",
     "locked": true,
     "schema_version": 3,
     "solution": false,
     "task": false
    }
   },
   "outputs": [
    {
     "name": "stdout",
     "output_type": "stream",
     "text": [
      "0.9441119698834662\n"
     ]
    }
   ],
   "source": [
    "ans = engagement_model()\n",
    "assert isinstance(ans, pd.Series), \"Your function should return a pd.Series. \"\n",
    "assert len(ans) == 2309, \"Your series is of incorrect length: expected 2309 \"\n",
    "assert np.issubdtype(\n",
    "    ans.index.dtype, np.integer\n",
    "), \"Your answer pd.Series should have an index of integer type representing video id.\""
   ]
  },
  {
   "cell_type": "code",
   "execution_count": null,
   "id": "7d391804",
   "metadata": {},
   "outputs": [],
   "source": []
  }
 ],
 "metadata": {
  "etc_active_cell": 7,
  "kernelspec": {
   "display_name": "Python 3 (ipykernel)",
   "language": "python",
   "name": "python3"
  },
  "language_info": {
   "codemirror_mode": {
    "name": "ipython",
    "version": 3
   },
   "file_extension": ".py",
   "mimetype": "text/x-python",
   "name": "python",
   "nbconvert_exporter": "python",
   "pygments_lexer": "ipython3",
   "version": "3.9.12"
  },
  "vscode": {
   "interpreter": {
    "hash": "aee8b7b246df8f9039afb4144a1f6fd8d2ca17a180786b69acc140d282b71a49"
   }
  }
 },
 "nbformat": 4,
 "nbformat_minor": 5
}
